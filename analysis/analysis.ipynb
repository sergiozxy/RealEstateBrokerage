{
 "cells": [
  {
   "cell_type": "code",
   "execution_count": 2,
   "metadata": {},
   "outputs": [],
   "source": [
    "import pandas as pd\n",
    "from statsmodels.tsa.stattools import grangercausalitytests\n",
    "\n",
    "data = pd.read_stata('template.dta')\n"
   ]
  },
  {
   "cell_type": "code",
   "execution_count": 8,
   "metadata": {},
   "outputs": [
    {
     "name": "stdout",
     "output_type": "stream",
     "text": [
      "\n",
      "Granger Causality\n",
      "number of lags (no zero) 1\n",
      "ssr based F test:         F=197.2675, p=0.0000  , df_denom=217196, df_num=1\n",
      "ssr based chi2 test:   chi2=197.2702, p=0.0000  , df=1\n",
      "likelihood ratio test: chi2=197.1807, p=0.0000  , df=1\n",
      "parameter F test:         F=197.2675, p=0.0000  , df_denom=217196, df_num=1\n",
      "\n",
      "Granger Causality\n",
      "number of lags (no zero) 1\n",
      "ssr based F test:         F=1122.2466, p=0.0000  , df_denom=217196, df_num=1\n",
      "ssr based chi2 test:   chi2=1122.2621, p=0.0000  , df=1\n",
      "likelihood ratio test: chi2=1119.3727, p=0.0000  , df=1\n",
      "parameter F test:         F=1122.2466, p=0.0000  , df_denom=217196, df_num=1\n",
      "\n",
      "Granger Causality\n",
      "number of lags (no zero) 1\n",
      "ssr based F test:         F=97.9745 , p=0.0000  , df_denom=217196, df_num=1\n",
      "ssr based chi2 test:   chi2=97.9759 , p=0.0000  , df=1\n",
      "likelihood ratio test: chi2=97.9538 , p=0.0000  , df=1\n",
      "parameter F test:         F=97.9745 , p=0.0000  , df_denom=217196, df_num=1\n"
     ]
    }
   ],
   "source": [
    "max_lag = 1  # Adjust the number of lags as per your analysis\n",
    "test_result = grangercausalitytests(data[['ln_end_price', 'density']], max_lag)\n",
    "test_result = grangercausalitytests(data[['ln_income', 'density']], max_lag)\n",
    "test_result = grangercausalitytests(data[['ln_negotiation_period', 'density']], max_lag)"
   ]
  },
  {
   "cell_type": "code",
   "execution_count": null,
   "metadata": {},
   "outputs": [],
   "source": []
  }
 ],
 "metadata": {
  "kernelspec": {
   "display_name": "Python 3",
   "language": "python",
   "name": "python3"
  },
  "language_info": {
   "codemirror_mode": {
    "name": "ipython",
    "version": 3
   },
   "file_extension": ".py",
   "mimetype": "text/x-python",
   "name": "python",
   "nbconvert_exporter": "python",
   "pygments_lexer": "ipython3",
   "version": "3.8.10"
  }
 },
 "nbformat": 4,
 "nbformat_minor": 2
}
