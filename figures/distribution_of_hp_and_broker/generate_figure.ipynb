{
 "cells": [
  {
   "cell_type": "code",
   "execution_count": 27,
   "metadata": {},
   "outputs": [],
   "source": [
    "cities = ['Beijing', 'Chengdu', 'Chongqing', 'Guangzhou', 'Hangzhou', 'Nanjing', 'Shanghai', 'Shenzhen', 'Tianjin', 'Wuhan']\n",
    "\n",
    "# Start generating LaTeX code\n",
    "latex_code = \"\\\\begin{figure}[h!]\\n \\\\begin{scriptsize}   \\\\centering\\n\"\n",
    "\n",
    "for i, city in enumerate(cities):\n",
    "    # Check if new line is needed\n",
    "    if i % 3 == 0 and i != 0:\n",
    "        latex_code += \"\\n\"  # Add a newline for better readability in the LaTeX source\n",
    "\n",
    "    # Create minipage for the current city\n",
    "    latex_code += f\"    \\\\begin{{minipage}}{{0.328\\\\textwidth}}\\n\"\n",
    "    latex_code += f\"        \\\\includegraphics[width=\\\\linewidth]{{../figures/distribution_of_hp_and_broker/{city}.pdf}}\\n\"\n",
    "    # latex_code += f\"    \\\\caption{{{city}}}\\n\"\n",
    "    latex_code += \"    \\\\end{minipage}\\n\"\n",
    "    \n",
    "    # Add a horizontal fill if the figure is on the left column\n",
    "    if i % 3 == 0:\n",
    "        latex_code += \"    \\\\hfill\\n\"\n",
    "\n",
    "# Close the figure environment\n",
    "latex_code += \"\\n\\caption{The distribution of housing prices and brokers in different cities.}\\n\\n\"\n",
    "latex_code += \"Note: The heat map represents the distribution of housing prices and the standard ellipse represents the distribution of brokers, which is calculated by the mean and standard deviation of the latitude and longitude of brokers. The larger the ellipse, the more sparse the brokerages' distribution is. The Base Map is from Google Map.\"\n",
    "latex_code += \"\\end{scriptsize} \\\\end{figure}\\n\"\n",
    "\n",
    "# Print the generated LaTeX code\n",
    "# print(latex_code)\n",
    "# Write the generated LaTeX code to a file\n",
    "with open(\"../distribution_of_hp_and_broker.tex\", \"w\") as file:\n",
    "    file.write(latex_code)"
   ]
  }
 ],
 "metadata": {
  "kernelspec": {
   "display_name": "Python 3",
   "language": "python",
   "name": "python3"
  },
  "language_info": {
   "codemirror_mode": {
    "name": "ipython",
    "version": 3
   },
   "file_extension": ".py",
   "mimetype": "text/x-python",
   "name": "python",
   "nbconvert_exporter": "python",
   "pygments_lexer": "ipython3",
   "version": "3.10.12"
  }
 },
 "nbformat": 4,
 "nbformat_minor": 2
}
