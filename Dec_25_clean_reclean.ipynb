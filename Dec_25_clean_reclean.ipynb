{
 "cells": [
  {
   "cell_type": "code",
   "execution_count": 3,
   "metadata": {},
   "outputs": [],
   "source": [
    "import pandas as pd\n",
    "import numpy as np\n",
    "\n",
    "data = pd.read_csv('cleaned_1km.csv')\n",
    "df = pd.read_csv('cleaned_district.csv')"
   ]
  },
  {
   "cell_type": "markdown",
   "metadata": {},
   "source": [
    "## This is the code book of the data\n",
    "\n",
    "- 'building_type': The classification of a particular building.\n",
    "- 'village': The region that it belongs to.\n",
    "- 'district': administrative division that the Community belongs to.\n",
    "- 'floor_level': The level on which a particular room or apartment is, within a building.\n",
    "- 'new_lng': the longitude coordinates.\n",
    "- 'new_lat': the latitude coordinates.\n",
    "- 'year': time id.\n",
    "- 'floor_ratio': The ratio of the floor area to the total plot area.\n",
    "- 'green_ratio': The ratio of the green space to the total plot area.\n",
    "- 'nego_times': The number of times a negotiation was held.\n",
    "- 'lead_times': The time it takes before a deal is made.\n",
    "- 'total_building': The total number of buildings in an area.\n",
    "- 'total_resident': The total number of residents in an area.\n",
    "- 'watching_people': The number of people watching a listing.\n",
    "- 'watched_times': The number of times a listing is watched.\n",
    "- 'striker_price': The initial asking price.\n",
    "- 'striker_price_pers': The asking price per square foot.\n",
    "- 'end_price': The final agreed price.\n",
    "- 'end_price_pers': The final agreed price per square foot.\n",
    "- 'area': The area of a property.\n",
    "- 'nego_period': The period over which negotiations took place.\n",
    "- 'bedroom': The number of bedrooms in a property.\n",
    "- 'living_room': The number of living rooms in a property.\n",
    "- 'kitchen': The number of kitchens in a property.\n",
    "- 'toilet': The number of toilets in a property.\n",
    "- 'total_floor_number': The number of floors in a building.\n",
    "- 'elevator_ratio': The ratio of elevators to the total number of floors.\n",
    "- 'house_age': The age of the house.\n",
    "- 'income': The income of the potential buyer.\n",
    "- 'number': The number of properties listed.\n",
    "- 'super': referring to proximity to supermarkets (measured by number within given distance).\n",
    "- 'sub': referring to proximity to subway stations.\n",
    "- 'hotel': referring to proximity to hotels\n",
    "- 'kind': referring to proximity to kindergartens\n",
    "- 'prim': referring to primary schools.\n",
    "- 'mid': referring to middle schools.\n",
    "- 'shop_mall': referring to shopping mall.\n",
    "- 'west_food': referring to the availability of western food nearby.\n",
    "- 'park': referring to parks.\n",
    "- 'museum': Distance to the nearest museum.\n",
    "- 'ktv': referring to KTV and some entertainment venues.\n",
    "- 'jiadian': referring to electronic shops.\n",
    "- 'old': referring to old care systems.\n",
    "- 'other': other real estate brokerages within 1km.\n",
    "- 'other_5': other real estate brokerages within 0.5km.\n",
    "- 'lianjia': lianjia's number within 1km.\n",
    "- 'lianjia_5': lianjia's number within 0.5km.\n",
    "- 'beke': beke's number within 1km.\n",
    "- 'beke_5': beke's number within 0.5km.\n",
    "- 'geometry': geometry information.\n",
    "- 'light': night time lights.\n",
    "- 'pop': population density.\n",
    "- 'pm25': Air quality measure.\n",
    "- 'region': city name.\n",
    "- 'id': unique id.\n",
    "- 'business_area': business area.\n",
    "- 'index_right': unique index id \n",
    "- 'num': transaction number\n",
    "- 'prft': lianjia's income \n",
    "- 'price' housing price"
   ]
  },
  {
   "cell_type": "markdown",
   "metadata": {},
   "source": [
    "now we extract the number of transactions within the given 1km geometry to map with the community level data."
   ]
  },
  {
   "cell_type": "code",
   "execution_count": null,
   "metadata": {},
   "outputs": [],
   "source": []
  }
 ],
 "metadata": {
  "kernelspec": {
   "display_name": "Python 3",
   "language": "python",
   "name": "python3"
  },
  "language_info": {
   "codemirror_mode": {
    "name": "ipython",
    "version": 3
   },
   "file_extension": ".py",
   "mimetype": "text/x-python",
   "name": "python",
   "nbconvert_exporter": "python",
   "pygments_lexer": "ipython3",
   "version": "3.8.10"
  }
 },
 "nbformat": 4,
 "nbformat_minor": 2
}
