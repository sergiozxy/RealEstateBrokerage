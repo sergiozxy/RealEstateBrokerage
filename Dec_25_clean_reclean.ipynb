{
 "cells": [
  {
   "cell_type": "code",
   "execution_count": 1,
   "metadata": {},
   "outputs": [],
   "source": [
    "import pandas as pd\n",
    "import numpy as np\n",
    "\n",
    "data = pd.read_csv('cleaned_1km.csv')\n",
    "df = pd.read_csv('cleaned_district.csv')\n",
    "data.drop(columns = 'index', inplace=True)"
   ]
  },
  {
   "cell_type": "markdown",
   "metadata": {},
   "source": [
    "## This is the code book of the data\n",
    "\n",
    "- 'building_type': The classification of a particular building.\n",
    "- 'village': The region that it belongs to.\n",
    "- 'district': administrative division that the Community belongs to.\n",
    "- 'floor_level': The level on which a particular room or apartment is, within a building.\n",
    "- 'new_lng': the longitude coordinates.\n",
    "- 'new_lat': the latitude coordinates.\n",
    "- 'year': time id.\n",
    "- 'floor_ratio': The ratio of the floor area to the total plot area.\n",
    "- 'green_ratio': The ratio of the green space to the total plot area.\n",
    "- 'nego_times': The number of times a negotiation was held.\n",
    "- 'lead_times': The time it takes before a deal is made.\n",
    "- 'total_building': The total number of buildings in an area.\n",
    "- 'total_resident': The total number of residents in an area.\n",
    "- 'watching_people': The number of people watching a listing.\n",
    "- 'watched_times': The number of times a listing is watched.\n",
    "- 'striker_price': The initial asking price.\n",
    "- 'striker_price_pers': The asking price per square foot.\n",
    "- 'end_price': The final agreed price.\n",
    "- 'end_price_pers': The final agreed price per square foot.\n",
    "- 'area': The area of a property.\n",
    "- 'nego_period': The period over which negotiations took place.\n",
    "- 'bedroom': The number of bedrooms in a property.\n",
    "- 'living_room': The number of living rooms in a property.\n",
    "- 'kitchen': The number of kitchens in a property.\n",
    "- 'toilet': The number of toilets in a property.\n",
    "- 'total_floor_number': The number of floors in a building.\n",
    "- 'elevator_ratio': The ratio of elevators to the total number of floors.\n",
    "- 'house_age': The age of the house.\n",
    "- 'income': The income lianjia in this given district.\n",
    "- 'number': The number lianjia in this given district.\n",
    "- 'super': referring to proximity to supermarkets (measured by number within given distance).\n",
    "- 'sub': referring to proximity to subway stations.\n",
    "- 'hotel': referring to proximity to hotels\n",
    "- 'kind': referring to proximity to kindergartens\n",
    "- 'prim': referring to primary schools.\n",
    "- 'mid': referring to middle schools.\n",
    "- 'shop_mall': referring to shopping mall.\n",
    "- 'west_food': referring to the availability of western food nearby.\n",
    "- 'park': referring to parks.\n",
    "- 'museum': Distance to the nearest museum.\n",
    "- 'ktv': referring to KTV and some entertainment venues.\n",
    "- 'jiadian': referring to electronic shops.\n",
    "- 'old': referring to old care systems.\n",
    "- 'other': other real estate brokerages within 1km.\n",
    "- 'other_5': other real estate brokerages within 0.5km.\n",
    "- 'lianjia': lianjia's number within 1km.\n",
    "- 'lianjia_5': lianjia's number within 0.5km.\n",
    "- 'beke': beke's number within 1km.\n",
    "- 'beke_5': beke's number within 0.5km.\n",
    "- 'geometry': geometry information.\n",
    "- 'light': night time lights.\n",
    "- 'pop': population density.\n",
    "- 'pm25': Air quality measure.\n",
    "- 'region': city name.\n",
    "- 'id': unique id.\n",
    "- 'business_area': business area.\n",
    "- 'index_right': unique index id \n",
    "- 'num': transaction number within 1km\n",
    "- 'prft': lianjia's income within 1km\n",
    "- 'price' housing price within 1km"
   ]
  },
  {
   "cell_type": "markdown",
   "metadata": {},
   "source": [
    "now we extract the number of transactions within the given 1km geometry to map with the community level data."
   ]
  },
  {
   "cell_type": "markdown",
   "metadata": {},
   "source": [
    "## the below codes are for merging the 1km data to the district level data\n",
    "\n",
    "you do not need to execute them because I have already merged it"
   ]
  },
  {
   "cell_type": "code",
   "execution_count": 2,
   "metadata": {},
   "outputs": [
    {
     "name": "stderr",
     "output_type": "stream",
     "text": [
      "/home/xuyuan/.local/lib/python3.8/site-packages/geopandas/_compat.py:124: UserWarning: The Shapely GEOS version (3.11.2-CAPI-1.17.2) is incompatible with the GEOS version PyGEOS was compiled with (3.10.4-CAPI-1.16.2). Conversions between both will be slow.\n",
      "  warnings.warn(\n",
      "/tmp/ipykernel_21822/1062130048.py:1: DeprecationWarning: Shapely 2.0 is installed, but because PyGEOS is also installed, GeoPandas still uses PyGEOS by default. However, starting with version 0.14, the default will switch to Shapely. To force to use Shapely 2.0 now, you can either uninstall PyGEOS or set the environment variable USE_PYGEOS=0. You can do this before starting the Python process, or in your code before importing geopandas:\n",
      "\n",
      "import os\n",
      "os.environ['USE_PYGEOS'] = '0'\n",
      "import geopandas\n",
      "\n",
      "In the next release, GeoPandas will switch to using Shapely by default, even if PyGEOS is installed. If you only have PyGEOS installed to get speed-ups, this switch should be smooth. However, if you are using PyGEOS directly (calling PyGEOS functions on geometries from GeoPandas), this will then stop working and you are encouraged to migrate from PyGEOS to Shapely 2.0 (https://shapely.readthedocs.io/en/latest/migration_pygeos.html).\n",
      "  import geopandas as gpd\n"
     ]
    }
   ],
   "source": [
    "import geopandas as gpd\n",
    "from shapely import wkt\n",
    "\n",
    "# Create GeoDataFrames\n",
    "df_copy = gpd.GeoDataFrame(df.copy(), geometry=df['geometry'].apply(wkt.loads))\n",
    "data_copy = gpd.GeoDataFrame(data.copy(), geometry=data['geometry'].apply(wkt.loads))\n",
    "des = gpd.GeoDataFrame(data.drop_duplicates(subset=['geometry'], keep='first').copy(), \n",
    "                       geometry=data.drop_duplicates(subset=['geometry'], keep='first')['geometry'].apply(wkt.loads))\n"
   ]
  },
  {
   "cell_type": "code",
   "execution_count": 3,
   "metadata": {},
   "outputs": [],
   "source": [
    "df_copy = df_copy.set_crs('epsg:4326')\n",
    "data_copy = data_copy.set_crs('epsg:4326')\n",
    "des = des.set_crs('epsg:4326')"
   ]
  },
  {
   "cell_type": "code",
   "execution_count": 7,
   "metadata": {},
   "outputs": [],
   "source": [
    "data_copy['price'] = data_copy['price'] / data_copy['area']\n",
    "# this would guarantee that the result is the average price per square meter"
   ]
  },
  {
   "cell_type": "code",
   "execution_count": 8,
   "metadata": {},
   "outputs": [
    {
     "name": "stderr",
     "output_type": "stream",
     "text": [
      "/home/xuyuan/.local/lib/python3.8/site-packages/IPython/core/interactiveshell.py:3448: FutureWarning: The `op` parameter is deprecated and will be removed in a future release. Please use the `predicate` parameter instead.\n",
      "  if await self.run_code(code, result, async_=asy):\n"
     ]
    }
   ],
   "source": [
    "if 'index_left' in df_copy.columns:\n",
    "    df_copy.drop(columns=['index_left'], inplace=True)\n",
    "if 'index_right' in df_copy.columns:\n",
    "    df_copy.drop(columns=['index_right'], inplace=True)\n",
    "\n",
    "# Check and rename/drop 'index_left' and 'index_right' in des\n",
    "if 'index_left' in des.columns:\n",
    "    des.drop(columns=['index_left'], inplace=True)\n",
    "if 'index_right' in des.columns:\n",
    "    des.drop(columns=['index_right'], inplace=True)\n",
    "    \n",
    "joined_gdf = gpd.sjoin(df_copy, des, how=\"left\", op='within')\n"
   ]
  },
  {
   "cell_type": "code",
   "execution_count": 9,
   "metadata": {},
   "outputs": [],
   "source": [
    "# joined_gdf['id_unique', 'year'] # id_unique is the unique identification of the data object\n",
    "# and now we shall join the data to the district data\n",
    "\n",
    "data_copy['unique_key'] = data_copy['id_unique'].astype(str) + '_' + data_copy['year'].astype(str)\n",
    "joined_gdf['unique_key'] = joined_gdf['id_unique'].astype(str) + '_' + joined_gdf['year_left'].astype(str)\n",
    "data_relevant = data_copy[['unique_key', 'prft', 'num', 'price']]\n",
    "\n",
    "joined_gdf = joined_gdf.merge(data_relevant, on='unique_key', how='left')\n",
    "joined_gdf.drop(columns=['unique_key'], inplace=True)"
   ]
  },
  {
   "cell_type": "code",
   "execution_count": 10,
   "metadata": {},
   "outputs": [],
   "source": [
    "df_copy['unique_key'] = df_copy['id'].astype(str) + '_' + df_copy['year'].astype(str)\n",
    "joined_gdf['unique_key'] = joined_gdf['id_left'].astype(str) + '_' + joined_gdf['year_left'].astype(str)"
   ]
  },
  {
   "cell_type": "code",
   "execution_count": 11,
   "metadata": {},
   "outputs": [],
   "source": [
    "joined_gdf.rename(columns = {'prft': 'region_income', 'num': 'region_num', 'price': 'region_price'}, inplace=True)\n",
    "data_relevant = joined_gdf[['unique_key', 'region_income', 'region_num', 'region_price']]"
   ]
  },
  {
   "cell_type": "code",
   "execution_count": 12,
   "metadata": {},
   "outputs": [],
   "source": [
    "df_copy = df_copy.merge(data_relevant, on='unique_key', how='left')"
   ]
  },
  {
   "cell_type": "code",
   "execution_count": 13,
   "metadata": {},
   "outputs": [
    {
     "data": {
      "text/plain": [
       "Index(['building_type', 'village', 'district', 'floor_level', 'new_lng',\n",
       "       'new_lat', 'year', 'floor_ratio', 'green_ratio', 'nego_times',\n",
       "       'lead_times', 'total_building', 'total_resident', 'watching_people',\n",
       "       'watched_times', 'striker_price', 'striker_price_pers', 'end_price',\n",
       "       'end_price_pers', 'area', 'nego_period', 'bedroom', 'living_room',\n",
       "       'kitchen', 'toilet', 'total_floor_number', 'elevator_ratio',\n",
       "       'house_age', 'income', 'number', 'super', 'sub', 'hotel', 'kind',\n",
       "       'prim', 'mid', 'shop_mall', 'west_food', 'park', 'museum', 'ktv',\n",
       "       'jiadian', 'old', 'other', 'other_5', 'lianjia', 'lianjia_5', 'beke',\n",
       "       'beke_5', 'geometry', 'light', 'pop', 'pm25', 'region', 'id',\n",
       "       'business_area', 'num', 'prft', 'price', 'unique_key', 'region_income',\n",
       "       'region_num', 'region_price'],\n",
       "      dtype='object')"
      ]
     },
     "execution_count": 13,
     "metadata": {},
     "output_type": "execute_result"
    }
   ],
   "source": [
    "df_copy.drop(columns=['unique_key', 'num', 'prft', 'price'], inplace=True)"
   ]
  },
  {
   "cell_type": "code",
   "execution_count": null,
   "metadata": {},
   "outputs": [],
   "source": []
  }
 ],
 "metadata": {
  "kernelspec": {
   "display_name": "Python 3",
   "language": "python",
   "name": "python3"
  },
  "language_info": {
   "codemirror_mode": {
    "name": "ipython",
    "version": 3
   },
   "file_extension": ".py",
   "mimetype": "text/x-python",
   "name": "python",
   "nbconvert_exporter": "python",
   "pygments_lexer": "ipython3",
   "version": "3.8.10"
  }
 },
 "nbformat": 4,
 "nbformat_minor": 2
}
