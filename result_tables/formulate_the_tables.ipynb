{
 "cells": [
  {
   "cell_type": "code",
   "execution_count": 33,
   "metadata": {},
   "outputs": [
    {
     "name": "stdout",
     "output_type": "stream",
     "text": [
      "File has been modified and saved as 'dynamic.tex'\n"
     ]
    }
   ],
   "source": [
    "import re\n",
    "\n",
    "# Path to the .tex file\n",
    "file_path = '../dynamic.tex'\n",
    "\n",
    "things_to_replace = ['yearx2\\_density']\n",
    "\n",
    "# Read the content of the file\n",
    "with open(file_path, 'r') as file:\n",
    "    content = file.read()\n",
    "    \n",
    "content = re.sub(r'yearx(\\d+)\\\\_density', r'year\\1 $\\\\times$ density', content)\n",
    "\n",
    "# Perform the replacement in each line\n",
    "new_content = []\n",
    "for line in content:\n",
    "    # Replace 'yearx2_density' with 'year2 × density'\n",
    "    new_line = line.replace('yearx2\\_density', 'year2 $\\\\times$ density')\n",
    "    new_content.append(new_line)\n",
    "\n",
    "# Write the modified content back to the file or a new file\n",
    "with open(file_path, 'w') as file:\n",
    "    file.writelines(new_content)\n",
    "\n",
    "print(\"File has been modified and saved as 'dynamic.tex'\")\n"
   ]
  },
  {
   "cell_type": "code",
   "execution_count": null,
   "metadata": {},
   "outputs": [],
   "source": []
  }
 ],
 "metadata": {
  "kernelspec": {
   "display_name": "Python 3",
   "language": "python",
   "name": "python3"
  },
  "language_info": {
   "codemirror_mode": {
    "name": "ipython",
    "version": 3
   },
   "file_extension": ".py",
   "mimetype": "text/x-python",
   "name": "python",
   "nbconvert_exporter": "python",
   "pygments_lexer": "ipython3",
   "version": "3.10.12"
  }
 },
 "nbformat": 4,
 "nbformat_minor": 2
}
