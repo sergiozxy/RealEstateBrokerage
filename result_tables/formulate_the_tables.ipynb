{
 "cells": [
  {
   "cell_type": "code",
   "execution_count": 12,
   "metadata": {},
   "outputs": [
    {
     "name": "stdout",
     "output_type": "stream",
     "text": [
      "File has been modified and saved as 'dynamic.tex'\n"
     ]
    }
   ],
   "source": [
    "import re\n",
    "\n",
    "# Path to the .tex file\n",
    "file_path = 'dynamic.tex'\n",
    "\n",
    "# LaTeX variables to replace (with escaping backslashes properly)\n",
    "things_to_replace = [\n",
    "    r'broker\\\\_410', r'ln\\\\_end\\\\_price', r'ln\\\\_income', r'ln\\\\_lead',\n",
    "    r'ln\\\\_negotiation\\\\_period', r'price\\\\_concession', r'ln\\\\_watch\\\\_people',\n",
    "    r'ln\\\\_watch\\\\_time', r'ln\\\\_nego\\\\_changes'\n",
    "]\n",
    "# New descriptions to replace them with\n",
    "things_to_complement = [\n",
    "    'Other Brokerage Num', 'ln(Price)', 'log(income)', 'log(lead times)',\n",
    "    'log(negotiation period)', 'price concession', 'log(watch people)',\n",
    "    'log(watch time)', 'log(nego changes)'\n",
    "]\n",
    "\n",
    "# Read the content of the file\n",
    "with open(file_path, 'r') as file:\n",
    "    content = file.read()\n",
    "\n",
    "# Replace 'yearx\\d+_density' with 'year\\d $\\\\times$ density'\n",
    "content = re.sub(r'yearx(\\d+)\\\\_density', r'year\\1 $\\\\times$ density', content)\n",
    "\n",
    "# Perform replacements for each pair in lists\n",
    "for replace, complement in zip(things_to_replace, things_to_complement):\n",
    "    content = re.sub(replace, complement, content)\n",
    "\n",
    "# Write the modified content back to the file\n",
    "with open(file_path, 'w') as file:\n",
    "    file.write(content)\n",
    "\n",
    "print(\"File has been modified and saved as '{}'\".format(file_path))\n"
   ]
  },
  {
   "cell_type": "code",
   "execution_count": 13,
   "metadata": {},
   "outputs": [
    {
     "name": "stdout",
     "output_type": "stream",
     "text": [
      "File has been modified and saved as 'dynamic.tex'\n"
     ]
    }
   ],
   "source": [
    "import re\n",
    "\n",
    "# Path to the .tex file\n",
    "file_path = 'entry_effect.tex'\n",
    "\n",
    "# LaTeX variables to replace (with escaping backslashes properly)\n",
    "things_to_replace = [\n",
    "    r'broker\\\\_410', r'ln\\\\_end\\\\_price', r'ln\\\\_income', r'ln\\\\_lead',\n",
    "    r'ln\\\\_negotiation\\\\_period', r'price\\\\_concession', r'ln\\\\_watch\\\\_people',\n",
    "    r'ln\\\\_watch\\\\_time', r'ln\\\\_nego\\\\_changes'\n",
    "]\n",
    "# New descriptions to replace them with\n",
    "things_to_complement = [\n",
    "    'Other Brokerage Num', 'ln(Price)', 'log(income)', 'log(lead times)',\n",
    "    'log(negotiation period)', 'price concession', 'log(watch people)',\n",
    "    'log(watch time)', 'log(nego changes)'\n",
    "]\n",
    "\n",
    "# Read the content of the file\n",
    "with open(file_path, 'r') as file:\n",
    "    content = file.read()\n",
    "\n",
    "# Replace 'yearx\\d+_density' with 'year\\d $\\\\times$ density'\n",
    "content = re.sub(r'yearx(\\d+)\\\\_density', r'year\\1 $\\\\times$ density', content)\n",
    "\n",
    "# Perform replacements for each pair in lists\n",
    "for replace, complement in zip(things_to_replace, things_to_complement):\n",
    "    content = re.sub(replace, complement, content)\n",
    "\n",
    "# Write the modified content back to the file\n",
    "with open(file_path, 'w') as file:\n",
    "    file.write(content)\n",
    "\n",
    "print(\"File has been modified and saved as '{}'\".format(file_path))\n"
   ]
  },
  {
   "cell_type": "code",
   "execution_count": 14,
   "metadata": {},
   "outputs": [
    {
     "name": "stdout",
     "output_type": "stream",
     "text": [
      "File has been modified and saved as 'stylized_fact.tex'\n"
     ]
    }
   ],
   "source": [
    "import re\n",
    "\n",
    "# Path to the .tex file\n",
    "file_path = 'stylized_fact.tex'\n",
    "\n",
    "# LaTeX variables to replace (with escaping backslashes properly)\n",
    "things_to_replace = [\n",
    "    r'broker\\\\_410', r'ln\\\\_end\\\\_price', r'ln\\\\_income', r'ln\\\\_lead',\n",
    "    r'ln\\\\_negotiation\\\\_period', r'price\\\\_concession', r'ln\\\\_watch\\\\_people',\n",
    "    r'ln\\\\_watch\\\\_time', r'ln\\\\_nego\\\\_changes'\n",
    "]\n",
    "# New descriptions to replace them with\n",
    "things_to_complement = [\n",
    "    'Other Brokerage Num', 'ln(Price)', 'log(income)', 'log(lead times)',\n",
    "    'log(negotiation period)', 'price concession', 'log(watch people)',\n",
    "    'log(watch time)', 'log(nego changes)'\n",
    "]\n",
    "\n",
    "# Read the content of the file\n",
    "with open(file_path, 'r') as file:\n",
    "    content = file.read()\n",
    "\n",
    "# Replace 'yearx\\d+_density' with 'year\\d $\\\\times$ density'\n",
    "content = re.sub(r'yearx(\\d+)\\\\_density', r'year\\1 $\\\\times$ density', content)\n",
    "\n",
    "# Perform replacements for each pair in lists\n",
    "for replace, complement in zip(things_to_replace, things_to_complement):\n",
    "    content = re.sub(replace, complement, content)\n",
    "\n",
    "# Write the modified content back to the file\n",
    "with open(file_path, 'w') as file:\n",
    "    file.write(content)\n",
    "\n",
    "print(\"File has been modified and saved as '{}'\".format(file_path))\n"
   ]
  },
  {
   "cell_type": "code",
   "execution_count": 15,
   "metadata": {},
   "outputs": [
    {
     "name": "stdout",
     "output_type": "stream",
     "text": [
      "File has been modified and saved as 'robust_hhi.tex'\n"
     ]
    }
   ],
   "source": [
    "import re\n",
    "\n",
    "# Path to the .tex file\n",
    "file_path = 'robust_hhi.tex'\n",
    "\n",
    "# LaTeX variables to replace (with escaping backslashes properly)\n",
    "things_to_replace = [\n",
    "    r'broker\\\\_410', r'ln\\\\_end\\\\_price', r'ln\\\\_income', r'ln\\\\_lead',\n",
    "    r'ln\\\\_negotiation\\\\_period', r'price\\\\_concession', r'ln\\\\_watch\\\\_people',\n",
    "    r'ln\\\\_watch\\\\_time', r'ln\\\\_nego\\\\_changes'\n",
    "]\n",
    "# New descriptions to replace them with\n",
    "things_to_complement = [\n",
    "    'Other Brokerage Num', 'ln(Price)', 'log(income)', 'log(lead times)',\n",
    "    'log(negotiation period)', 'price concession', 'log(watch people)',\n",
    "    'log(watch time)', 'log(nego changes)'\n",
    "]\n",
    "\n",
    "# Read the content of the file\n",
    "with open(file_path, 'r') as file:\n",
    "    content = file.read()\n",
    "\n",
    "# Replace 'yearx\\d+_density' with 'year\\d $\\\\times$ density'\n",
    "content = re.sub(r'yearx(\\d+)\\\\_density', r'year\\1 $\\\\times$ density', content)\n",
    "\n",
    "# Perform replacements for each pair in lists\n",
    "for replace, complement in zip(things_to_replace, things_to_complement):\n",
    "    content = re.sub(replace, complement, content)\n",
    "\n",
    "# Write the modified content back to the file\n",
    "with open(file_path, 'w') as file:\n",
    "    file.write(content)\n",
    "\n",
    "print(\"File has been modified and saved as '{}'\".format(file_path))\n"
   ]
  },
  {
   "cell_type": "code",
   "execution_count": 16,
   "metadata": {},
   "outputs": [
    {
     "name": "stdout",
     "output_type": "stream",
     "text": [
      "File has been modified and saved as 'robust_mature.tex'\n"
     ]
    }
   ],
   "source": [
    "import re\n",
    "\n",
    "# Path to the .tex file\n",
    "file_path = 'robust_mature.tex'\n",
    "\n",
    "# LaTeX variables to replace (with escaping backslashes properly)\n",
    "things_to_replace = [\n",
    "    r'broker\\\\_410', r'ln\\\\_end\\\\_price', r'ln\\\\_income', r'ln\\\\_lead',\n",
    "    r'ln\\\\_negotiation\\\\_period', r'price\\\\_concession', r'ln\\\\_watch\\\\_people',\n",
    "    r'ln\\\\_watch\\\\_time', r'ln\\\\_nego\\\\_changes'\n",
    "]\n",
    "# New descriptions to replace them with\n",
    "things_to_complement = [\n",
    "    'Other Brokerage Num', 'ln(Price)', 'log(income)', 'log(lead times)',\n",
    "    'log(negotiation period)', 'price concession', 'log(watch people)',\n",
    "    'log(watch time)', 'log(nego changes)'\n",
    "]\n",
    "\n",
    "# Read the content of the file\n",
    "with open(file_path, 'r') as file:\n",
    "    content = file.read()\n",
    "\n",
    "# Replace 'yearx\\d+_density' with 'year\\d $\\\\times$ density'\n",
    "content = re.sub(r'yearx(\\d+)\\\\_density', r'year\\1 $\\\\times$ density', content)\n",
    "\n",
    "# Perform replacements for each pair in lists\n",
    "for replace, complement in zip(things_to_replace, things_to_complement):\n",
    "    content = re.sub(replace, complement, content)\n",
    "\n",
    "# Write the modified content back to the file\n",
    "with open(file_path, 'w') as file:\n",
    "    file.write(content)\n",
    "\n",
    "print(\"File has been modified and saved as '{}'\".format(file_path))\n"
   ]
  },
  {
   "cell_type": "code",
   "execution_count": null,
   "metadata": {},
   "outputs": [],
   "source": []
  }
 ],
 "metadata": {
  "kernelspec": {
   "display_name": "Python 3",
   "language": "python",
   "name": "python3"
  },
  "language_info": {
   "codemirror_mode": {
    "name": "ipython",
    "version": 3
   },
   "file_extension": ".py",
   "mimetype": "text/x-python",
   "name": "python",
   "nbconvert_exporter": "python",
   "pygments_lexer": "ipython3",
   "version": "3.10.12"
  }
 },
 "nbformat": 4,
 "nbformat_minor": 2
}
