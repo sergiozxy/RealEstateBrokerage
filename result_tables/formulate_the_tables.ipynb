{
 "cells": [
  {
   "cell_type": "code",
   "execution_count": 1,
   "metadata": {},
   "outputs": [
    {
     "name": "stdout",
     "output_type": "stream",
     "text": [
      "File has been modified and saved as 'dynamic.tex'\n"
     ]
    }
   ],
   "source": [
    "import re\n",
    "\n",
    "# Path to the .tex file\n",
    "file_path = 'dynamic.tex'\n",
    "\n",
    "# LaTeX variables to replace (with escaping backslashes properly)\n",
    "things_to_replace = [\n",
    "    r'broker\\\\_410', r'ln\\\\_end\\\\_price', r'ln\\\\_num', r'ln\\\\_lead',\n",
    "    r'ln\\\\_negotiation\\\\_period', r'price\\\\_concession', r'ln\\\\_watch\\\\_people',\n",
    "    r'ln\\\\_watch\\\\_time', r'ln\\\\_nego\\\\_changes', r'Other Brokerage Num', r'ln(Price)',\n",
    "]\n",
    "# New descriptions to replace them with\n",
    "things_to_complement = [\n",
    "    'Other Brokerage Num', 'ln(Price)', 'log(number)', 'log(lead times)',\n",
    "    'log(negotiation period)', 'price concession', 'log(watch people)',\n",
    "    'log(watch time)', 'log(nego changes)', 'other brokerage num', 'log(price)'\n",
    "]\n",
    "\n",
    "# Read the content of the file\n",
    "with open(file_path, 'r') as file:\n",
    "    content = file.read()\n",
    "\n",
    "# Replace 'yearx\\d+_density' with 'year\\d $\\\\times$ density'\n",
    "content = re.sub(r'yearx(\\d+)\\\\_density', r'year\\1 $\\\\times$ density', content)\n",
    "\n",
    "# Perform replacements for each pair in lists\n",
    "for replace, complement in zip(things_to_replace, things_to_complement):\n",
    "    content = re.sub(replace, complement, content)\n",
    "\n",
    "# Write the modified content back to the file\n",
    "with open(file_path, 'w') as file:\n",
    "    file.write(content)\n",
    "\n",
    "print(\"File has been modified and saved as '{}'\".format(file_path))\n"
   ]
  },
  {
   "cell_type": "code",
   "execution_count": 2,
   "metadata": {},
   "outputs": [
    {
     "name": "stdout",
     "output_type": "stream",
     "text": [
      "File has been modified and saved as 'entry_effect.tex'\n"
     ]
    }
   ],
   "source": [
    "import re\n",
    "\n",
    "# Path to the .tex file\n",
    "file_path = 'entry_effect.tex'\n",
    "\n",
    "# LaTeX variables to replace (with escaping backslashes properly)\n",
    "things_to_replace = [\n",
    "    r'broker\\\\_410', r'ln\\\\_end\\\\_price', r'ln\\\\_num', r'ln\\\\_lead',\n",
    "    r'ln\\\\_negotiation\\\\_period', r'price\\\\_concession', r'ln\\\\_watch\\\\_people',\n",
    "    r'ln\\\\_watch\\\\_time', r'ln\\\\_nego\\\\_changes', r'Other Brokerage Num', r'ln(Price)',\n",
    "]\n",
    "# New descriptions to replace them with\n",
    "things_to_complement = [\n",
    "    'Other Brokerage Num', 'ln(Price)', 'log(number)', 'log(lead times)',\n",
    "    'log(negotiation period)', 'price concession', 'log(watch people)',\n",
    "    'log(watch time)', 'log(nego changes)', 'other brokerage num', 'log(price)'\n",
    "]\n",
    "\n",
    "# Read the content of the file\n",
    "with open(file_path, 'r') as file:\n",
    "    content = file.read()\n",
    "\n",
    "# Replace 'yearx\\d+_density' with 'year\\d $\\\\times$ density'\n",
    "content = re.sub(r'yearx(\\d+)\\\\_density', r'year\\1 $\\\\times$ density', content)\n",
    "\n",
    "# Perform replacements for each pair in lists\n",
    "for replace, complement in zip(things_to_replace, things_to_complement):\n",
    "    content = re.sub(replace, complement, content)\n",
    "\n",
    "# Write the modified content back to the file\n",
    "with open(file_path, 'w') as file:\n",
    "    file.write(content)\n",
    "\n",
    "print(\"File has been modified and saved as '{}'\".format(file_path))\n"
   ]
  },
  {
   "cell_type": "code",
   "execution_count": 3,
   "metadata": {},
   "outputs": [
    {
     "name": "stdout",
     "output_type": "stream",
     "text": [
      "File has been modified and saved as 'heter_platform_did_1.tex'\n"
     ]
    }
   ],
   "source": [
    "import re\n",
    "\n",
    "# Path to the .tex file\n",
    "file_path = 'heter_platform_did_1.tex'\n",
    "\n",
    "# LaTeX variables to replace (with escaping backslashes properly)\n",
    "things_to_replace = [\n",
    "    r'broker\\\\_410', r'ln\\\\_end\\\\_price', r'ln\\\\_num', r'ln\\\\_lead',\n",
    "    r'ln\\\\_negotiation\\\\_period', r'price\\\\_concession', r'ln\\\\_watch\\\\_people',\n",
    "    r'ln\\\\_watch\\\\_time', r'ln\\\\_nego\\\\_changes', r'Other Brokerage Num', r'ln(Price)',\n",
    "]\n",
    "# New descriptions to replace them with\n",
    "things_to_complement = [\n",
    "    'Other Brokerage Num', 'ln(Price)', 'log(number)', 'log(lead times)',\n",
    "    'log(negotiation period)', 'price concession', 'log(watch people)',\n",
    "    'log(watch time)', 'log(nego changes)', 'other brokerage num', 'log(price)'\n",
    "]\n",
    "\n",
    "# Read the content of the file\n",
    "with open(file_path, 'r') as file:\n",
    "    content = file.read()\n",
    "\n",
    "# Replace 'yearx\\d+_density' with 'year\\d $\\\\times$ density'\n",
    "content = re.sub(r'yearx(\\d+)\\\\_density', r'year\\1 $\\\\times$ density', content)\n",
    "\n",
    "# Perform replacements for each pair in lists\n",
    "for replace, complement in zip(things_to_replace, things_to_complement):\n",
    "    content = re.sub(replace, complement, content)\n",
    "\n",
    "# Write the modified content back to the file\n",
    "with open(file_path, 'w') as file:\n",
    "    file.write(content)\n",
    "\n",
    "print(\"File has been modified and saved as '{}'\".format(file_path))\n"
   ]
  },
  {
   "cell_type": "code",
   "execution_count": 4,
   "metadata": {},
   "outputs": [
    {
     "name": "stdout",
     "output_type": "stream",
     "text": [
      "File has been modified and saved as 'heter_platform_did_2.tex'\n"
     ]
    }
   ],
   "source": [
    "import re\n",
    "\n",
    "# Path to the .tex file\n",
    "file_path = 'heter_platform_did_2.tex'\n",
    "\n",
    "# LaTeX variables to replace (with escaping backslashes properly)\n",
    "things_to_replace = [\n",
    "    r'broker\\\\_410', r'ln\\\\_end\\\\_price', r'ln\\\\_num', r'ln\\\\_lead',\n",
    "    r'ln\\\\_negotiation\\\\_period', r'price\\\\_concession', r'ln\\\\_watch\\\\_people',\n",
    "    r'ln\\\\_watch\\\\_time', r'ln\\\\_nego\\\\_changes', r'Other Brokerage Num', r'ln(Price)',\n",
    "]\n",
    "# New descriptions to replace them with\n",
    "things_to_complement = [\n",
    "    'Other Brokerage Num', 'ln(Price)', 'log(number)', 'log(lead times)',\n",
    "    'log(negotiation period)', 'price concession', 'log(watch people)',\n",
    "    'log(watch time)', 'log(nego changes)', 'other brokerage num', 'log(price)'\n",
    "]\n",
    "\n",
    "# Read the content of the file\n",
    "with open(file_path, 'r') as file:\n",
    "    content = file.read()\n",
    "\n",
    "# Replace 'yearx\\d+_density' with 'year\\d $\\\\times$ density'\n",
    "content = re.sub(r'yearx(\\d+)\\\\_density', r'year\\1 $\\\\times$ density', content)\n",
    "\n",
    "# Perform replacements for each pair in lists\n",
    "for replace, complement in zip(things_to_replace, things_to_complement):\n",
    "    content = re.sub(replace, complement, content)\n",
    "\n",
    "# Write the modified content back to the file\n",
    "with open(file_path, 'w') as file:\n",
    "    file.write(content)\n",
    "\n",
    "print(\"File has been modified and saved as '{}'\".format(file_path))\n"
   ]
  },
  {
   "cell_type": "code",
   "execution_count": 5,
   "metadata": {},
   "outputs": [
    {
     "name": "stdout",
     "output_type": "stream",
     "text": [
      "File has been modified and saved as 'entry_effect_hetero_1.tex'\n"
     ]
    }
   ],
   "source": [
    "import re\n",
    "\n",
    "# Path to the .tex file\n",
    "file_path = 'entry_effect_hetero_1.tex'\n",
    "\n",
    "# LaTeX variables to replace (with escaping backslashes properly)\n",
    "things_to_replace = [\n",
    "    r'broker\\\\_410', r'ln\\\\_end\\\\_price', r'ln\\\\_num', r'ln\\\\_lead',\n",
    "    r'ln\\\\_negotiation\\\\_period', r'price\\\\_concession', r'ln\\\\_watch\\\\_people',\n",
    "    r'ln\\\\_watch\\\\_time', r'ln\\\\_nego\\\\_changes', r'Other Brokerage Num', r'ln(Price)',\n",
    "]\n",
    "# New descriptions to replace them with\n",
    "things_to_complement = [\n",
    "    'Other Brokerage Num', 'ln(Price)', 'log(number)', 'log(lead times)',\n",
    "    'log(negotiation period)', 'price concession', 'log(watch people)',\n",
    "    'log(watch time)', 'log(nego changes)', 'other brokerage num', 'log(price)'\n",
    "]\n",
    "\n",
    "# Read the content of the file\n",
    "with open(file_path, 'r') as file:\n",
    "    content = file.read()\n",
    "\n",
    "# Replace 'yearx\\d+_density' with 'year\\d $\\\\times$ density'\n",
    "content = re.sub(r'yearx(\\d+)\\\\_density', r'year\\1 $\\\\times$ density', content)\n",
    "\n",
    "# Perform replacements for each pair in lists\n",
    "for replace, complement in zip(things_to_replace, things_to_complement):\n",
    "    content = re.sub(replace, complement, content)\n",
    "\n",
    "# Write the modified content back to the file\n",
    "with open(file_path, 'w') as file:\n",
    "    file.write(content)\n",
    "\n",
    "print(\"File has been modified and saved as '{}'\".format(file_path))\n"
   ]
  },
  {
   "cell_type": "code",
   "execution_count": 6,
   "metadata": {},
   "outputs": [
    {
     "name": "stdout",
     "output_type": "stream",
     "text": [
      "File has been modified and saved as 'entry_effect_hetero_1.tex'\n"
     ]
    }
   ],
   "source": [
    "import re\n",
    "\n",
    "# Path to the .tex file\n",
    "file_path = 'entry_effect_hetero_1.tex'\n",
    "\n",
    "# LaTeX variables to replace (with escaping backslashes properly)\n",
    "things_to_replace = [\n",
    "    r'broker\\\\_410', r'ln\\\\_end\\\\_price', r'ln\\\\_num', r'ln\\\\_lead',\n",
    "    r'ln\\\\_negotiation\\\\_period', r'price\\\\_concession', r'ln\\\\_watch\\\\_people',\n",
    "    r'ln\\\\_watch\\\\_time', r'ln\\\\_nego\\\\_changes', r'Other Brokerage Num', r'ln(Price)',\n",
    "]\n",
    "# New descriptions to replace them with\n",
    "things_to_complement = [\n",
    "    'Other Brokerage Num', 'ln(Price)', 'log(number)', 'log(lead times)',\n",
    "    'log(negotiation period)', 'price concession', 'log(watch people)',\n",
    "    'log(watch time)', 'log(nego changes)', 'other brokerage num', 'log(price)'\n",
    "]\n",
    "\n",
    "# Read the content of the file\n",
    "with open(file_path, 'r') as file:\n",
    "    content = file.read()\n",
    "\n",
    "# Replace 'yearx\\d+_density' with 'year\\d $\\\\times$ density'\n",
    "content = re.sub(r'yearx(\\d+)\\\\_density', r'year\\1 $\\\\times$ density', content)\n",
    "\n",
    "# Perform replacements for each pair in lists\n",
    "for replace, complement in zip(things_to_replace, things_to_complement):\n",
    "    content = re.sub(replace, complement, content)\n",
    "\n",
    "# Write the modified content back to the file\n",
    "with open(file_path, 'w') as file:\n",
    "    file.write(content)\n",
    "\n",
    "print(\"File has been modified and saved as '{}'\".format(file_path))\n"
   ]
  },
  {
   "cell_type": "code",
   "execution_count": 7,
   "metadata": {},
   "outputs": [
    {
     "name": "stdout",
     "output_type": "stream",
     "text": [
      "File has been modified and saved as 'stylized_fact.tex'\n"
     ]
    }
   ],
   "source": [
    "import re\n",
    "\n",
    "# Path to the .tex file\n",
    "file_path = 'stylized_fact.tex'\n",
    "\n",
    "# LaTeX variables to replace (with escaping backslashes properly)\n",
    "things_to_replace = [\n",
    "    r'broker\\\\_410', r'ln\\\\_end\\\\_price', r'ln\\\\_num', r'ln\\\\_lead',\n",
    "    r'ln\\\\_negotiation\\\\_period', r'price\\\\_concession', r'ln\\\\_watch\\\\_people',\n",
    "    r'ln\\\\_watch\\\\_time', r'ln\\\\_nego\\\\_changes', r'Other Brokerage Num', r'ln(Price)',\n",
    "]\n",
    "# New descriptions to replace them with\n",
    "things_to_complement = [\n",
    "    'Other Brokerage Num', 'ln(Price)', 'log(number)', 'log(lead times)',\n",
    "    'log(negotiation period)', 'price concession', 'log(watch people)',\n",
    "    'log(watch time)', 'log(nego changes)', 'other brokerage num', 'log(price)'\n",
    "]\n",
    "\n",
    "# Read the content of the file\n",
    "with open(file_path, 'r') as file:\n",
    "    content = file.read()\n",
    "\n",
    "# Replace 'yearx\\d+_density' with 'year\\d $\\\\times$ density'\n",
    "content = re.sub(r'yearx(\\d+)\\\\_density', r'year\\1 $\\\\times$ density', content)\n",
    "\n",
    "# Perform replacements for each pair in lists\n",
    "for replace, complement in zip(things_to_replace, things_to_complement):\n",
    "    content = re.sub(replace, complement, content)\n",
    "\n",
    "# Write the modified content back to the file\n",
    "with open(file_path, 'w') as file:\n",
    "    file.write(content)\n",
    "\n",
    "print(\"File has been modified and saved as '{}'\".format(file_path))\n"
   ]
  },
  {
   "cell_type": "code",
   "execution_count": 8,
   "metadata": {},
   "outputs": [
    {
     "name": "stdout",
     "output_type": "stream",
     "text": [
      "File has been modified and saved as 'robust_hhi.tex'\n"
     ]
    }
   ],
   "source": [
    "import re\n",
    "\n",
    "# Path to the .tex file\n",
    "file_path = 'robust_hhi.tex'\n",
    "\n",
    "# LaTeX variables to replace (with escaping backslashes properly)\n",
    "things_to_replace = [\n",
    "    r'broker\\\\_410', r'ln\\\\_end\\\\_price', r'ln\\\\_num', r'ln\\\\_lead',\n",
    "    r'ln\\\\_negotiation\\\\_period', r'price\\\\_concession', r'ln\\\\_watch\\\\_people',\n",
    "    r'ln\\\\_watch\\\\_time', r'ln\\\\_nego\\\\_changes', r'Other Brokerage Num', r'ln(Price)',\n",
    "]\n",
    "# New descriptions to replace them with\n",
    "things_to_complement = [\n",
    "    'Other Brokerage Num', 'ln(Price)', 'log(number)', 'log(lead times)',\n",
    "    'log(negotiation period)', 'price concession', 'log(watch people)',\n",
    "    'log(watch time)', 'log(nego changes)', 'other brokerage num', 'log(price)'\n",
    "]\n",
    "\n",
    "# Read the content of the file\n",
    "with open(file_path, 'r') as file:\n",
    "    content = file.read()\n",
    "\n",
    "# Replace 'yearx\\d+_density' with 'year\\d $\\\\times$ density'\n",
    "content = re.sub(r'yearx(\\d+)\\\\_density', r'year\\1 $\\\\times$ density', content)\n",
    "\n",
    "# Perform replacements for each pair in lists\n",
    "for replace, complement in zip(things_to_replace, things_to_complement):\n",
    "    content = re.sub(replace, complement, content)\n",
    "\n",
    "# Write the modified content back to the file\n",
    "with open(file_path, 'w') as file:\n",
    "    file.write(content)\n",
    "\n",
    "print(\"File has been modified and saved as '{}'\".format(file_path))\n"
   ]
  },
  {
   "cell_type": "markdown",
   "metadata": {},
   "source": [
    "## HERE ARE SOME SPECIAL EVENTS FOR THE ROBUSTNESS CHECKS"
   ]
  },
  {
   "cell_type": "code",
   "execution_count": 12,
   "metadata": {},
   "outputs": [
    {
     "name": "stdout",
     "output_type": "stream",
     "text": [
      "1\n",
      "File has been modified and saved as 'entry_robust_adding_variables_1.tex'\n"
     ]
    }
   ],
   "source": [
    "import re\n",
    "\n",
    "# Path to the .tex file\n",
    "file_path = 'entry_robust_adding_variables_1.tex'\n",
    "\n",
    "# LaTeX variables to replace (with escaping backslashes properly)\n",
    "things_to_replace = [\n",
    "    r'broker\\\\_410', r'ln\\\\_end\\\\_price', r'ln\\\\_num', r'ln\\\\_lead',\n",
    "    r'ln\\\\_negotiation\\\\_period', r'price\\\\_concession', r'ln\\\\_watch\\\\_people',\n",
    "    r'ln\\\\_watch\\\\_time', r'ln\\\\_nego\\\\_changes', r'Other Brokerage Num', r'ln(Price)',\n",
    "]\n",
    "# New descriptions to replace them with\n",
    "things_to_complement = [\n",
    "    'Other Brokerage Num', 'ln(Price)', 'log(number)', 'log(lead times)',\n",
    "    'log(negotiation period)', 'price concession', 'log(watch people)',\n",
    "    'log(watch time)', 'log(nego changes)', 'other brokerage num', 'log(price)'\n",
    "]\n",
    "\n",
    "# Read the content of the file\n",
    "with open(file_path, 'r') as file:\n",
    "    content = file.read()\n",
    "\n",
    "# Perform replacements for each pair in lists\n",
    "for replace, complement in zip(things_to_replace, things_to_complement):\n",
    "    content = re.sub(replace, complement, content)\n",
    "\n",
    "new_line = 'Regional Control & & & & & & & & \\\\\\\\'\n",
    "\n",
    "lines = content.split('\\n')\n",
    "\n",
    "for i, line in enumerate(lines):\n",
    "    if 'Transaction Control' in line:\n",
    "        print(1)\n",
    "        lines.insert(i + 1, new_line)\n",
    "        break\n",
    "\n",
    "modified_content = '\\n'.join(lines)\n",
    "\n",
    "# Write the modified content back to the file\n",
    "with open(file_path, 'w') as file:\n",
    "    file.write(modified_content)\n",
    "\n",
    "print(\"File has been modified and saved as '{}'\".format(file_path))"
   ]
  },
  {
   "cell_type": "code",
   "execution_count": 13,
   "metadata": {},
   "outputs": [
    {
     "name": "stdout",
     "output_type": "stream",
     "text": [
      "1\n",
      "File has been modified and saved as 'entry_robust_adding_variables_2.tex'\n"
     ]
    }
   ],
   "source": [
    "import re\n",
    "\n",
    "# Path to the .tex file\n",
    "file_path = 'entry_robust_adding_variables_2.tex'\n",
    "\n",
    "# LaTeX variables to replace (with escaping backslashes properly)\n",
    "things_to_replace = [\n",
    "    r'broker\\\\_410', r'ln\\\\_end\\\\_price', r'ln\\\\_num', r'ln\\\\_lead',\n",
    "    r'ln\\\\_negotiation\\\\_period', r'price\\\\_concession', r'ln\\\\_watch\\\\_people',\n",
    "    r'ln\\\\_watch\\\\_time', r'ln\\\\_nego\\\\_changes', r'Other Brokerage Num', r'ln(Price)',\n",
    "]\n",
    "# New descriptions to replace them with\n",
    "things_to_complement = [\n",
    "    'Other Brokerage Num', 'ln(Price)', 'log(number)', 'log(lead times)',\n",
    "    'log(negotiation period)', 'price concession', 'log(watch people)',\n",
    "    'log(watch time)', 'log(nego changes)', 'other brokerage num', 'log(price)'\n",
    "]\n",
    "\n",
    "# Read the content of the file\n",
    "with open(file_path, 'r') as file:\n",
    "    content = file.read()\n",
    "\n",
    "# Perform replacements for each pair in lists\n",
    "for replace, complement in zip(things_to_replace, things_to_complement):\n",
    "    content = re.sub(replace, complement, content)\n",
    "\n",
    "new_line = 'Regional Control & & & & & & & & \\\\\\\\'\n",
    "\n",
    "lines = content.split('\\n')\n",
    "\n",
    "for i, line in enumerate(lines):\n",
    "    if 'Transaction Control' in line:\n",
    "        print(1)\n",
    "        lines.insert(i + 1, new_line)\n",
    "        break\n",
    "\n",
    "modified_content = '\\n'.join(lines)\n",
    "\n",
    "# Write the modified content back to the file\n",
    "with open(file_path, 'w') as file:\n",
    "    file.write(modified_content)\n",
    "\n",
    "print(\"File has been modified and saved as '{}'\".format(file_path))"
   ]
  },
  {
   "cell_type": "code",
   "execution_count": 16,
   "metadata": {},
   "outputs": [
    {
     "name": "stdout",
     "output_type": "stream",
     "text": [
      "1\n",
      "File has been modified and saved as 'plat_robust_adding_variables_1.tex'\n"
     ]
    }
   ],
   "source": [
    "import re\n",
    "\n",
    "# Path to the .tex file\n",
    "file_path = 'plat_robust_adding_variables_1.tex'\n",
    "\n",
    "# LaTeX variables to replace (with escaping backslashes properly)\n",
    "things_to_replace = [\n",
    "    r'broker\\\\_410', r'ln\\\\_end\\\\_price', r'ln\\\\_num', r'ln\\\\_lead',\n",
    "    r'ln\\\\_negotiation\\\\_period', r'price\\\\_concession', r'ln\\\\_watch\\\\_people',\n",
    "    r'ln\\\\_watch\\\\_time', r'ln\\\\_nego\\\\_changes', r'Other Brokerage Num', r'ln(Price)',\n",
    "]\n",
    "# New descriptions to replace them with\n",
    "things_to_complement = [\n",
    "    'Other Brokerage Num', 'ln(Price)', 'log(number)', 'log(lead times)',\n",
    "    'log(negotiation period)', 'price concession', 'log(watch people)',\n",
    "    'log(watch time)', 'log(nego changes)', 'other brokerage num', 'log(price)'\n",
    "]\n",
    "\n",
    "# Read the content of the file\n",
    "with open(file_path, 'r') as file:\n",
    "    content = file.read()\n",
    "\n",
    "# Perform replacements for each pair in lists\n",
    "for replace, complement in zip(things_to_replace, things_to_complement):\n",
    "    content = re.sub(replace, complement, content)\n",
    "\n",
    "new_line = 'Regional Control & & & & & & & & \\\\\\\\'\n",
    "\n",
    "lines = content.split('\\n')\n",
    "\n",
    "for i, line in enumerate(lines):\n",
    "    if 'Transaction Control' in line:\n",
    "        print(1)\n",
    "        lines.insert(i + 1, new_line)\n",
    "        break\n",
    "\n",
    "modified_content = '\\n'.join(lines)\n",
    "\n",
    "# Write the modified content back to the file\n",
    "with open(file_path, 'w') as file:\n",
    "    file.write(modified_content)\n",
    "\n",
    "print(\"File has been modified and saved as '{}'\".format(file_path))"
   ]
  },
  {
   "cell_type": "code",
   "execution_count": 17,
   "metadata": {},
   "outputs": [
    {
     "name": "stdout",
     "output_type": "stream",
     "text": [
      "1\n",
      "File has been modified and saved as 'plat_robust_adding_variables_2.tex'\n"
     ]
    }
   ],
   "source": [
    "import re\n",
    "\n",
    "# Path to the .tex file\n",
    "file_path = 'plat_robust_adding_variables_2.tex'\n",
    "\n",
    "# LaTeX variables to replace (with escaping backslashes properly)\n",
    "things_to_replace = [\n",
    "    r'broker\\\\_410', r'ln\\\\_end\\\\_price', r'ln\\\\_num', r'ln\\\\_lead',\n",
    "    r'ln\\\\_negotiation\\\\_period', r'price\\\\_concession', r'ln\\\\_watch\\\\_people',\n",
    "    r'ln\\\\_watch\\\\_time', r'ln\\\\_nego\\\\_changes', r'Other Brokerage Num', r'ln(Price)',\n",
    "]\n",
    "# New descriptions to replace them with\n",
    "things_to_complement = [\n",
    "    'Other Brokerage Num', 'ln(Price)', 'log(number)', 'log(lead times)',\n",
    "    'log(negotiation period)', 'price concession', 'log(watch people)',\n",
    "    'log(watch time)', 'log(nego changes)', 'other brokerage num', 'log(price)'\n",
    "]\n",
    "\n",
    "# Read the content of the file\n",
    "with open(file_path, 'r') as file:\n",
    "    content = file.read()\n",
    "\n",
    "# Perform replacements for each pair in lists\n",
    "for replace, complement in zip(things_to_replace, things_to_complement):\n",
    "    content = re.sub(replace, complement, content)\n",
    "\n",
    "new_line = 'Regional Control & & & & & & & & \\\\\\\\'\n",
    "\n",
    "lines = content.split('\\n')\n",
    "\n",
    "for i, line in enumerate(lines):\n",
    "    if 'Transaction Control' in line:\n",
    "        print(1)\n",
    "        lines.insert(i + 1, new_line)\n",
    "        break\n",
    "\n",
    "modified_content = '\\n'.join(lines)\n",
    "\n",
    "# Write the modified content back to the file\n",
    "with open(file_path, 'w') as file:\n",
    "    file.write(modified_content)\n",
    "\n",
    "print(\"File has been modified and saved as '{}'\".format(file_path))"
   ]
  },
  {
   "cell_type": "code",
   "execution_count": 14,
   "metadata": {},
   "outputs": [],
   "source": [
    "def add_adjustbox_to_tex(file_path):\n",
    "    # Read the content of the file\n",
    "    with open(file_path, 'r') as file:\n",
    "        lines = file.readlines()\n",
    "\n",
    "    # Add the \\begin{adjustbox}{max width=\\textwidth} line after the \\def\\sym#1 line\n",
    "    for i, line in enumerate(lines):\n",
    "        if line.strip() == r'\\def\\sym#1{\\ifmmode^{#1}\\else\\(^{#1}\\)\\fi}':\n",
    "            lines.insert(i + 1, r'\\begin{adjustbox}{max width=\\textwidth}' + '\\n')\n",
    "            break\n",
    "\n",
    "    # Add the \\end{adjustbox} line before the \\end{tabular} line\n",
    "    for i, line in enumerate(lines):\n",
    "        if line.strip() == r'\\end{tabular}':\n",
    "            lines.insert(i + 1, r'\\end{adjustbox}' + '\\n')\n",
    "            break\n",
    "\n",
    "    for i, line in enumerate(lines):\n",
    "        if line.strip() == r'&\\multicolumn{1}{c}{log(negotiation period)}&\\multicolumn{1}{c}{log(negotiation period)}&\\multicolumn{1}{c}{log(negotiation period)}&\\multicolumn{1}{c}{price concession}&\\multicolumn{1}{c}{price concession}&\\multicolumn{1}{c}{price concession}\\\\':\n",
    "            lines.insert(i + 1, r'&[lower]&[moderate]&[higher]&[lower]&[moderate]&[higher]\\\\' + '\\n')\n",
    "            break\n",
    "        if line.strip() == r'&\\multicolumn{1}{c}{log(number)}&\\multicolumn{1}{c}{log(number)}&\\multicolumn{1}{c}{log(number)}&\\multicolumn{1}{c}{log(lead times)}&\\multicolumn{1}{c}{log(lead times)}&\\multicolumn{1}{c}{log(lead times)}\\\\':\n",
    "            lines.insert(i + 1, r'&[lower]&[moderate]&[higher]&[lower]&[moderate]&[higher]\\\\' + '\\n')\n",
    "            break\n",
    "    # Write the modified content back to the file\n",
    "    with open(file_path, 'w') as file:\n",
    "        file.writelines(lines)\n",
    "\n",
    "# Usage"
   ]
  },
  {
   "cell_type": "code",
   "execution_count": 10,
   "metadata": {},
   "outputs": [],
   "source": [
    "file_path = 'quantile_network_formation.tex'\n",
    "add_adjustbox_to_tex(file_path)"
   ]
  },
  {
   "cell_type": "code",
   "execution_count": 10,
   "metadata": {},
   "outputs": [],
   "source": [
    "file_path3 = 'entry_effect_hetero_1.tex'\n",
    "add_adjustbox_to_tex(file_path3)\n",
    "file_path4 = 'entry_effect_hetero_2.tex'\n",
    "add_adjustbox_to_tex(file_path4)"
   ]
  },
  {
   "cell_type": "code",
   "execution_count": 11,
   "metadata": {},
   "outputs": [],
   "source": [
    "file_path5 = 'heter_platform_did_1.tex'\n",
    "add_adjustbox_to_tex(file_path5)\n",
    "file_path6 = 'heter_platform_did_2.tex'\n",
    "add_adjustbox_to_tex(file_path6)"
   ]
  },
  {
   "cell_type": "code",
   "execution_count": 15,
   "metadata": {},
   "outputs": [],
   "source": [
    "file_path7 = 'entry_robust_adding_variables_1.tex'\n",
    "add_adjustbox_to_tex(file_path7)\n",
    "file_path8 = 'entry_robust_adding_variables_2.tex'\n",
    "add_adjustbox_to_tex(file_path8)"
   ]
  },
  {
   "cell_type": "code",
   "execution_count": 18,
   "metadata": {},
   "outputs": [],
   "source": [
    "file_path9 = 'plat_robust_adding_variables_1.tex'\n",
    "add_adjustbox_to_tex(file_path9)\n",
    "file_path10 = 'plat_robust_adding_variables_2.tex'\n",
    "add_adjustbox_to_tex(file_path10)"
   ]
  },
  {
   "cell_type": "markdown",
   "metadata": {},
   "source": [
    "## THIS IS TEMPRORILY ABADONED"
   ]
  },
  {
   "cell_type": "code",
   "execution_count": 14,
   "metadata": {},
   "outputs": [
    {
     "ename": "FileNotFoundError",
     "evalue": "[Errno 2] No such file or directory: 'robust_mature.tex'",
     "output_type": "error",
     "traceback": [
      "\u001b[1;31m---------------------------------------------------------------------------\u001b[0m",
      "\u001b[1;31mFileNotFoundError\u001b[0m                         Traceback (most recent call last)",
      "\u001b[1;32m~\\AppData\\Local\\Temp\\ipykernel_15840\\2430372639.py\u001b[0m in \u001b[0;36m<cell line: 0>\u001b[1;34m()\u001b[0m\n\u001b[0;32m     18\u001b[0m \u001b[1;33m\u001b[0m\u001b[0m\n\u001b[0;32m     19\u001b[0m \u001b[1;31m# Read the content of the file\u001b[0m\u001b[1;33m\u001b[0m\u001b[1;33m\u001b[0m\u001b[0m\n\u001b[1;32m---> 20\u001b[1;33m \u001b[1;32mwith\u001b[0m \u001b[0mopen\u001b[0m\u001b[1;33m(\u001b[0m\u001b[0mfile_path\u001b[0m\u001b[1;33m,\u001b[0m \u001b[1;34m'r'\u001b[0m\u001b[1;33m)\u001b[0m \u001b[1;32mas\u001b[0m \u001b[0mfile\u001b[0m\u001b[1;33m:\u001b[0m\u001b[1;33m\u001b[0m\u001b[1;33m\u001b[0m\u001b[0m\n\u001b[0m\u001b[0;32m     21\u001b[0m     \u001b[0mcontent\u001b[0m \u001b[1;33m=\u001b[0m \u001b[0mfile\u001b[0m\u001b[1;33m.\u001b[0m\u001b[0mread\u001b[0m\u001b[1;33m(\u001b[0m\u001b[1;33m)\u001b[0m\u001b[1;33m\u001b[0m\u001b[1;33m\u001b[0m\u001b[0m\n\u001b[0;32m     22\u001b[0m \u001b[1;33m\u001b[0m\u001b[0m\n",
      "\u001b[1;31mFileNotFoundError\u001b[0m: [Errno 2] No such file or directory: 'robust_mature.tex'"
     ]
    }
   ],
   "source": [
    "import re\n",
    "\n",
    "# Path to the .tex file\n",
    "file_path = 'robust_mature.tex'\n",
    "\n",
    "# LaTeX variables to replace (with escaping backslashes properly)\n",
    "things_to_replace = [\n",
    "    r'broker\\\\_410', r'ln\\\\_end\\\\_price', r'ln\\\\_num', r'ln\\\\_lead',\n",
    "    r'ln\\\\_negotiation\\\\_period', r'price\\\\_concession', r'ln\\\\_watch\\\\_people',\n",
    "    r'ln\\\\_watch\\\\_time', r'ln\\\\_nego\\\\_changes', r'Other Brokerage Num', r'ln(Price)',\n",
    "]\n",
    "# New descriptions to replace them with\n",
    "things_to_complement = [\n",
    "    'Other Brokerage Num', 'ln(Price)', 'log(number)', 'log(lead times)',\n",
    "    'log(negotiation period)', 'price concession', 'log(watch people)',\n",
    "    'log(watch time)', 'log(nego changes)', 'other brokerage num', 'log(price)'\n",
    "]\n",
    "\n",
    "# Read the content of the file\n",
    "with open(file_path, 'r') as file:\n",
    "    content = file.read()\n",
    "\n",
    "# Replace 'yearx\\d+_density' with 'year\\d $\\\\times$ density'\n",
    "content = re.sub(r'yearx(\\d+)\\\\_density', r'year\\1 $\\\\times$ density', content)\n",
    "\n",
    "# Perform replacements for each pair in lists\n",
    "for replace, complement in zip(things_to_replace, things_to_complement):\n",
    "    content = re.sub(replace, complement, content)\n",
    "\n",
    "# Write the modified content back to the file\n",
    "with open(file_path, 'w') as file:\n",
    "    file.write(content)\n",
    "\n",
    "print(\"File has been modified and saved as '{}'\".format(file_path))\n"
   ]
  },
  {
   "cell_type": "code",
   "execution_count": null,
   "metadata": {},
   "outputs": [],
   "source": [
    "file_path = 'robust_mature.tex'\n",
    "add_adjustbox_to_tex(file_path)"
   ]
  }
 ],
 "metadata": {
  "kernelspec": {
   "display_name": "Python 3.9.12 ('base')",
   "language": "python",
   "name": "python3"
  },
  "language_info": {
   "codemirror_mode": {
    "name": "ipython",
    "version": 3
   },
   "file_extension": ".py",
   "mimetype": "text/x-python",
   "name": "python",
   "nbconvert_exporter": "python",
   "pygments_lexer": "ipython3",
   "version": "3.9.12"
  },
  "vscode": {
   "interpreter": {
    "hash": "0944e941b8eaf7e2d5c0c45968a299f652cd46296f06120665dad39486ef7111"
   }
  }
 },
 "nbformat": 4,
 "nbformat_minor": 2
}
